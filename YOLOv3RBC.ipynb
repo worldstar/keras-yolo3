{
  "nbformat": 4,
  "nbformat_minor": 0,
  "metadata": {
    "colab": {
      "name": "YOLOv3RBC.ipynb",
      "provenance": [],
      "collapsed_sections": []
    },
    "kernelspec": {
      "name": "python3",
      "display_name": "Python 3"
    },
    "accelerator": "GPU"
  },
  "cells": [
    {
      "cell_type": "code",
      "metadata": {
        "colab": {
          "base_uri": "https://localhost:8080/"
        },
        "id": "W0Rn3g2tx-o0",
        "outputId": "385163c9-29e7-479b-a692-6c95579ab5e3"
      },
      "source": [
        "!pip install tensorflow-gpu==1.15.3"
      ],
      "execution_count": null,
      "outputs": [
        {
          "output_type": "stream",
          "text": [
            "Collecting tensorflow-gpu==1.15.3\n",
            "\u001b[?25l  Downloading https://files.pythonhosted.org/packages/32/d9/f977cb032856d7f65cc42541da1ff12dafc4ff35fddb819836cf5c4cab60/tensorflow_gpu-1.15.3-cp37-cp37m-manylinux2010_x86_64.whl (411.0MB)\n",
            "\u001b[K     |████████████████████████████████| 411.0MB 43kB/s \n",
            "\u001b[?25hRequirement already satisfied: astor>=0.6.0 in /usr/local/lib/python3.7/dist-packages (from tensorflow-gpu==1.15.3) (0.8.1)\n",
            "Collecting tensorboard<1.16.0,>=1.15.0\n",
            "\u001b[?25l  Downloading https://files.pythonhosted.org/packages/1e/e9/d3d747a97f7188f48aa5eda486907f3b345cd409f0a0850468ba867db246/tensorboard-1.15.0-py3-none-any.whl (3.8MB)\n",
            "\u001b[K     |████████████████████████████████| 3.8MB 44.6MB/s \n",
            "\u001b[?25hRequirement already satisfied: google-pasta>=0.1.6 in /usr/local/lib/python3.7/dist-packages (from tensorflow-gpu==1.15.3) (0.2.0)\n",
            "Requirement already satisfied: absl-py>=0.7.0 in /usr/local/lib/python3.7/dist-packages (from tensorflow-gpu==1.15.3) (0.10.0)\n",
            "Requirement already satisfied: keras-preprocessing>=1.0.5 in /usr/local/lib/python3.7/dist-packages (from tensorflow-gpu==1.15.3) (1.1.2)\n",
            "Collecting tensorflow-estimator==1.15.1\n",
            "\u001b[?25l  Downloading https://files.pythonhosted.org/packages/de/62/2ee9cd74c9fa2fa450877847ba560b260f5d0fb70ee0595203082dafcc9d/tensorflow_estimator-1.15.1-py2.py3-none-any.whl (503kB)\n",
            "\u001b[K     |████████████████████████████████| 512kB 52.7MB/s \n",
            "\u001b[?25hRequirement already satisfied: six>=1.10.0 in /usr/local/lib/python3.7/dist-packages (from tensorflow-gpu==1.15.3) (1.15.0)\n",
            "Requirement already satisfied: protobuf>=3.6.1 in /usr/local/lib/python3.7/dist-packages (from tensorflow-gpu==1.15.3) (3.12.4)\n",
            "Requirement already satisfied: numpy<2.0,>=1.16.0 in /usr/local/lib/python3.7/dist-packages (from tensorflow-gpu==1.15.3) (1.19.5)\n",
            "Collecting keras-applications>=1.0.8\n",
            "\u001b[?25l  Downloading https://files.pythonhosted.org/packages/71/e3/19762fdfc62877ae9102edf6342d71b28fbfd9dea3d2f96a882ce099b03f/Keras_Applications-1.0.8-py3-none-any.whl (50kB)\n",
            "\u001b[K     |████████████████████████████████| 51kB 9.5MB/s \n",
            "\u001b[?25hRequirement already satisfied: grpcio>=1.8.6 in /usr/local/lib/python3.7/dist-packages (from tensorflow-gpu==1.15.3) (1.32.0)\n",
            "Requirement already satisfied: wrapt>=1.11.1 in /usr/local/lib/python3.7/dist-packages (from tensorflow-gpu==1.15.3) (1.12.1)\n",
            "Requirement already satisfied: opt-einsum>=2.3.2 in /usr/local/lib/python3.7/dist-packages (from tensorflow-gpu==1.15.3) (3.3.0)\n",
            "Requirement already satisfied: wheel>=0.26; python_version >= \"3\" in /usr/local/lib/python3.7/dist-packages (from tensorflow-gpu==1.15.3) (0.36.2)\n",
            "Collecting gast==0.2.2\n",
            "  Downloading https://files.pythonhosted.org/packages/4e/35/11749bf99b2d4e3cceb4d55ca22590b0d7c2c62b9de38ac4a4a7f4687421/gast-0.2.2.tar.gz\n",
            "Requirement already satisfied: termcolor>=1.1.0 in /usr/local/lib/python3.7/dist-packages (from tensorflow-gpu==1.15.3) (1.1.0)\n",
            "Requirement already satisfied: werkzeug>=0.11.15 in /usr/local/lib/python3.7/dist-packages (from tensorboard<1.16.0,>=1.15.0->tensorflow-gpu==1.15.3) (1.0.1)\n",
            "Requirement already satisfied: markdown>=2.6.8 in /usr/local/lib/python3.7/dist-packages (from tensorboard<1.16.0,>=1.15.0->tensorflow-gpu==1.15.3) (3.3.3)\n",
            "Requirement already satisfied: setuptools>=41.0.0 in /usr/local/lib/python3.7/dist-packages (from tensorboard<1.16.0,>=1.15.0->tensorflow-gpu==1.15.3) (53.0.0)\n",
            "Requirement already satisfied: h5py in /usr/local/lib/python3.7/dist-packages (from keras-applications>=1.0.8->tensorflow-gpu==1.15.3) (2.10.0)\n",
            "Requirement already satisfied: importlib-metadata; python_version < \"3.8\" in /usr/local/lib/python3.7/dist-packages (from markdown>=2.6.8->tensorboard<1.16.0,>=1.15.0->tensorflow-gpu==1.15.3) (3.4.0)\n",
            "Requirement already satisfied: zipp>=0.5 in /usr/local/lib/python3.7/dist-packages (from importlib-metadata; python_version < \"3.8\"->markdown>=2.6.8->tensorboard<1.16.0,>=1.15.0->tensorflow-gpu==1.15.3) (3.4.0)\n",
            "Requirement already satisfied: typing-extensions>=3.6.4; python_version < \"3.8\" in /usr/local/lib/python3.7/dist-packages (from importlib-metadata; python_version < \"3.8\"->markdown>=2.6.8->tensorboard<1.16.0,>=1.15.0->tensorflow-gpu==1.15.3) (3.7.4.3)\n",
            "Building wheels for collected packages: gast\n",
            "  Building wheel for gast (setup.py) ... \u001b[?25l\u001b[?25hdone\n",
            "  Created wheel for gast: filename=gast-0.2.2-cp37-none-any.whl size=7540 sha256=4f77183c26d45864469072876cb7997af7c3d564abebfcb08b153eb5eecf2359\n",
            "  Stored in directory: /root/.cache/pip/wheels/5c/2e/7e/a1d4d4fcebe6c381f378ce7743a3ced3699feb89bcfbdadadd\n",
            "Successfully built gast\n",
            "\u001b[31mERROR: tensorflow 2.4.1 has requirement gast==0.3.3, but you'll have gast 0.2.2 which is incompatible.\u001b[0m\n",
            "\u001b[31mERROR: tensorflow 2.4.1 has requirement tensorboard~=2.4, but you'll have tensorboard 1.15.0 which is incompatible.\u001b[0m\n",
            "\u001b[31mERROR: tensorflow 2.4.1 has requirement tensorflow-estimator<2.5.0,>=2.4.0, but you'll have tensorflow-estimator 1.15.1 which is incompatible.\u001b[0m\n",
            "\u001b[31mERROR: tensorflow-probability 0.12.1 has requirement gast>=0.3.2, but you'll have gast 0.2.2 which is incompatible.\u001b[0m\n",
            "Installing collected packages: tensorboard, tensorflow-estimator, keras-applications, gast, tensorflow-gpu\n",
            "  Found existing installation: tensorboard 2.4.1\n",
            "    Uninstalling tensorboard-2.4.1:\n",
            "      Successfully uninstalled tensorboard-2.4.1\n",
            "  Found existing installation: tensorflow-estimator 2.4.0\n",
            "    Uninstalling tensorflow-estimator-2.4.0:\n",
            "      Successfully uninstalled tensorflow-estimator-2.4.0\n",
            "  Found existing installation: gast 0.3.3\n",
            "    Uninstalling gast-0.3.3:\n",
            "      Successfully uninstalled gast-0.3.3\n",
            "Successfully installed gast-0.2.2 keras-applications-1.0.8 tensorboard-1.15.0 tensorflow-estimator-1.15.1 tensorflow-gpu-1.15.3\n"
          ],
          "name": "stdout"
        }
      ]
    },
    {
      "cell_type": "code",
      "metadata": {
        "colab": {
          "base_uri": "https://localhost:8080/"
        },
        "id": "1t3WMqaMzfGr",
        "outputId": "c135d81c-8163-4016-9a0e-6b74eb60ca96"
      },
      "source": [
        "!pip install Keras==2.1.5"
      ],
      "execution_count": null,
      "outputs": [
        {
          "output_type": "stream",
          "text": [
            "Collecting Keras==2.1.5\n",
            "\u001b[?25l  Downloading https://files.pythonhosted.org/packages/ba/65/e4aff762b8696ec0626a6654b1e73b396fcc8b7cc6b98d78a1bc53b85b48/Keras-2.1.5-py2.py3-none-any.whl (334kB)\n",
            "\r\u001b[K     |█                               | 10kB 20.7MB/s eta 0:00:01\r\u001b[K     |██                              | 20kB 14.1MB/s eta 0:00:01\r\u001b[K     |███                             | 30kB 12.9MB/s eta 0:00:01\r\u001b[K     |████                            | 40kB 12.0MB/s eta 0:00:01\r\u001b[K     |█████                           | 51kB 7.5MB/s eta 0:00:01\r\u001b[K     |█████▉                          | 61kB 7.9MB/s eta 0:00:01\r\u001b[K     |██████▉                         | 71kB 8.9MB/s eta 0:00:01\r\u001b[K     |███████▉                        | 81kB 9.2MB/s eta 0:00:01\r\u001b[K     |████████▉                       | 92kB 9.1MB/s eta 0:00:01\r\u001b[K     |█████████▉                      | 102kB 8.4MB/s eta 0:00:01\r\u001b[K     |██████████▊                     | 112kB 8.4MB/s eta 0:00:01\r\u001b[K     |███████████▊                    | 122kB 8.4MB/s eta 0:00:01\r\u001b[K     |████████████▊                   | 133kB 8.4MB/s eta 0:00:01\r\u001b[K     |█████████████▊                  | 143kB 8.4MB/s eta 0:00:01\r\u001b[K     |██████████████▊                 | 153kB 8.4MB/s eta 0:00:01\r\u001b[K     |███████████████▋                | 163kB 8.4MB/s eta 0:00:01\r\u001b[K     |████████████████▋               | 174kB 8.4MB/s eta 0:00:01\r\u001b[K     |█████████████████▋              | 184kB 8.4MB/s eta 0:00:01\r\u001b[K     |██████████████████▋             | 194kB 8.4MB/s eta 0:00:01\r\u001b[K     |███████████████████▋            | 204kB 8.4MB/s eta 0:00:01\r\u001b[K     |████████████████████▌           | 215kB 8.4MB/s eta 0:00:01\r\u001b[K     |█████████████████████▌          | 225kB 8.4MB/s eta 0:00:01\r\u001b[K     |██████████████████████▌         | 235kB 8.4MB/s eta 0:00:01\r\u001b[K     |███████████████████████▌        | 245kB 8.4MB/s eta 0:00:01\r\u001b[K     |████████████████████████▌       | 256kB 8.4MB/s eta 0:00:01\r\u001b[K     |█████████████████████████▍      | 266kB 8.4MB/s eta 0:00:01\r\u001b[K     |██████████████████████████▍     | 276kB 8.4MB/s eta 0:00:01\r\u001b[K     |███████████████████████████▍    | 286kB 8.4MB/s eta 0:00:01\r\u001b[K     |████████████████████████████▍   | 296kB 8.4MB/s eta 0:00:01\r\u001b[K     |█████████████████████████████▍  | 307kB 8.4MB/s eta 0:00:01\r\u001b[K     |██████████████████████████████▎ | 317kB 8.4MB/s eta 0:00:01\r\u001b[K     |███████████████████████████████▎| 327kB 8.4MB/s eta 0:00:01\r\u001b[K     |████████████████████████████████| 337kB 8.4MB/s \n",
            "\u001b[?25hRequirement already satisfied: six>=1.9.0 in /usr/local/lib/python3.7/dist-packages (from Keras==2.1.5) (1.15.0)\n",
            "Requirement already satisfied: pyyaml in /usr/local/lib/python3.7/dist-packages (from Keras==2.1.5) (3.13)\n",
            "Requirement already satisfied: numpy>=1.9.1 in /usr/local/lib/python3.7/dist-packages (from Keras==2.1.5) (1.19.5)\n",
            "Requirement already satisfied: scipy>=0.14 in /usr/local/lib/python3.7/dist-packages (from Keras==2.1.5) (1.4.1)\n",
            "Installing collected packages: Keras\n",
            "  Found existing installation: Keras 2.4.3\n",
            "    Uninstalling Keras-2.4.3:\n",
            "      Successfully uninstalled Keras-2.4.3\n",
            "Successfully installed Keras-2.1.5\n"
          ],
          "name": "stdout"
        }
      ]
    },
    {
      "cell_type": "code",
      "metadata": {
        "colab": {
          "base_uri": "https://localhost:8080/"
        },
        "id": "S3maU2h1t5Ap",
        "outputId": "a394c5a1-c353-490e-bbdd-cb2a4f63b98f"
      },
      "source": [
        "!git clone https://github.com/worldstar/keras-yolo3.git"
      ],
      "execution_count": null,
      "outputs": [
        {
          "output_type": "stream",
          "text": [
            "Cloning into 'keras-yolo3'...\n",
            "remote: Enumerating objects: 144, done.\u001b[K\n",
            "remote: Total 144 (delta 0), reused 0 (delta 0), pack-reused 144\u001b[K\n",
            "Receiving objects: 100% (144/144), 151.08 KiB | 604.00 KiB/s, done.\n",
            "Resolving deltas: 100% (65/65), done.\n"
          ],
          "name": "stdout"
        }
      ]
    },
    {
      "cell_type": "code",
      "metadata": {
        "colab": {
          "base_uri": "https://localhost:8080/"
        },
        "id": "xwmc7AFHvItj",
        "outputId": "614949ed-b356-447c-be26-638ef592256e"
      },
      "source": [
        "%cd keras-yolo3"
      ],
      "execution_count": null,
      "outputs": [
        {
          "output_type": "stream",
          "text": [
            "/content/keras-yolo3\n"
          ],
          "name": "stdout"
        }
      ]
    },
    {
      "cell_type": "code",
      "metadata": {
        "id": "3zDxT9iyvae4"
      },
      "source": [
        "!wget https://pjreddie.com/media/files/yolov3.weights yolov3.weights\n",
        "!python convert.py yolov3.cfg yolov3.weights model_data/yolo_weights.h5"
      ],
      "execution_count": null,
      "outputs": []
    },
    {
      "cell_type": "code",
      "metadata": {
        "colab": {
          "base_uri": "https://localhost:8080/"
        },
        "id": "qYWSZ1ZouDem",
        "outputId": "39ae8883-3eb8-4eed-9ccb-9b607b31249d"
      },
      "source": [
        "!git clone https://github.com/worldstar/dataset.git"
      ],
      "execution_count": null,
      "outputs": [
        {
          "output_type": "stream",
          "text": [
            "Cloning into 'dataset'...\n",
            "remote: Enumerating objects: 713, done.\u001b[K\n",
            "remote: Total 713 (delta 0), reused 0 (delta 0), pack-reused 713\u001b[K\n",
            "Receiving objects: 100% (713/713), 7.26 MiB | 12.63 MiB/s, done.\n",
            "Resolving deltas: 100% (341/341), done.\n"
          ],
          "name": "stdout"
        }
      ]
    },
    {
      "cell_type": "code",
      "metadata": {
        "id": "DpXMfCnS3y0k"
      },
      "source": [
        "fw = open('model_data/voc_classes.txt', \"w\")\n",
        "fw.write('RBC')\n",
        "fw.close()"
      ],
      "execution_count": null,
      "outputs": []
    },
    {
      "cell_type": "code",
      "metadata": {
        "id": "FRcNNsbH6HYi"
      },
      "source": [
        "import xml.etree.ElementTree as ET\n",
        "import os\n",
        "from os import getcwd\n",
        "import sys\n",
        "\n",
        "def generateAnnotations(path, imagePath, writePath, voc_classes):\n",
        "    # path = sys.argv[1] #\"./Data/Annotations/\"\n",
        "    # imagePath = sys.argv[2]#\"./Data/JPEGImages/\"\n",
        "    # writePath = sys.argv[3]#\"./model_data/train.txt\"\n",
        "    deputyFileName = \"jpg\"\n",
        "    # classes = [\"bicycle\",\"car\",\"cat\",\"dog\",\"person\"]\n",
        "    fr = open(voc_classes, 'r')#\"model_data/voc_classes.txt\"\n",
        "    classes = fr.read().split(\"\\n\")\n",
        "    fr.close()\n",
        "\n",
        "    fw = open(writePath, \"w\")\n",
        "    for fileName in os.listdir(path):\n",
        "        if fileName in \".gitignore\":\n",
        "            continue\n",
        "        print(\"readFile:\",(path+fileName))\n",
        "        convertResult = convert_annotation((path+fileName),classes,imagePath,deputyFileName)\n",
        "        fw.write(convertResult)\n",
        "    fw.close()\n",
        "\n",
        "def dataUs(infos):\n",
        "    return infos.split(\".\")[0]\n",
        "\n",
        "def convert_annotation(path,classes,imagePath,deputyFileName): \n",
        "    try: \n",
        "        xmlFile = open(path) \n",
        "    except:\n",
        "        xmlFile = open(path,encoding=\"utf-8\")   \n",
        "    xmlTree = ET.parse(xmlFile)\n",
        "    xmlRoot = xmlTree.getroot()\n",
        "    width,height,depth = -1,-1,-1\n",
        "    hasClass = False\n",
        "    result = \"\"\n",
        "    for xmlObj in xmlRoot.iter('size'):\n",
        "        width = xmlObj.find('width').text.replace(\" \", \"\").replace(\"\\t\", \"\").replace(\"\\n\", \"\")\n",
        "        height = xmlObj.find('height').text.replace(\" \", \"\").replace(\"\\t\", \"\").replace(\"\\n\", \"\").replace(\" \", \"\").replace(\"\\t\", \"\").replace(\"\\n\", \"\")\n",
        "        depth = xmlObj.find('depth').text.replace(\" \", \"\").replace(\"\\t\", \"\").replace(\"\\n\", \"\")\n",
        "        # print(width,height,depth)\n",
        "    for xmlObj in xmlRoot.iter('object'):\n",
        "        name = xmlObj.find('name').text.replace(\" \", \"\").replace(\"\\t\", \"\").replace(\"\\n\", \"\")\n",
        "        isClass = False\n",
        "        classNum = -1\n",
        "        for i in range(0,len(classes),1):\n",
        "            if(name == classes[i]):\n",
        "                isClass = True\n",
        "                hasClass = True\n",
        "                classNum = i\n",
        "        if(isClass):\n",
        "            xmin , ymin , xmax , ymax = -1 , -1 , -1 , -1\n",
        "            for xmlObj2 in xmlObj.iter('bndbox'):\n",
        "                xmin = int(dataUs(xmlObj2.find('xmin').text.replace(\" \", \"\").replace(\"\\t\", \"\").replace(\"\\n\", \"\").replace(\" \", \"\").replace(\"\\t\", \"\").replace(\"\\n\", \"\")))\n",
        "                ymin = int(dataUs(xmlObj2.find('ymin').text.replace(\" \", \"\").replace(\"\\t\", \"\").replace(\"\\n\", \"\")))\n",
        "                xmax = int(dataUs(xmlObj2.find('xmax').text.replace(\" \", \"\").replace(\"\\t\", \"\").replace(\"\\n\", \"\")))\n",
        "                ymax = int(dataUs(xmlObj2.find('ymax').text.replace(\" \", \"\").replace(\"\\t\", \"\").replace(\"\\n\", \"\")))\n",
        "            result += \" %s,%s,%s,%s,%d\"%(xmin,ymin,xmax,ymax,classNum)\n",
        "    if(hasClass):\n",
        "        FileName = os.path.basename(path)\n",
        "        FileName = os.path.splitext(FileName)[0]\n",
        "        FileName = FileName+\".\"+deputyFileName\n",
        "        result = \"%s%s\\n\"%((imagePath + FileName),result)\n",
        "    return result"
      ],
      "execution_count": null,
      "outputs": []
    },
    {
      "cell_type": "code",
      "metadata": {
        "id": "2wZ04NlY6m9i"
      },
      "source": [
        "generateAnnotations('dataset/Annotations/', 'dataset/JPEGImages/', 'train.txt', 'model_data/voc_classes.txt')"
      ],
      "execution_count": null,
      "outputs": []
    },
    {
      "cell_type": "code",
      "metadata": {
        "colab": {
          "base_uri": "https://localhost:8080/"
        },
        "id": "3LZ8acEPuTBU",
        "outputId": "b7c89bcd-c501-4c21-db5f-892714c9b2d7"
      },
      "source": [
        "!python train.py #WPlease note there are two stages, the first stage runs 20 epochs and the 2nd stage executes 100 epochs."
      ],
      "execution_count": null,
      "outputs": [
        {
          "output_type": "stream",
          "text": [
            "Using TensorFlow backend.\n",
            "WARNING:tensorflow:From /usr/local/lib/python3.7/dist-packages/keras/backend/tensorflow_backend.py:88: The name tf.reset_default_graph is deprecated. Please use tf.compat.v1.reset_default_graph instead.\n",
            "\n",
            "WARNING:tensorflow:From /usr/local/lib/python3.7/dist-packages/keras/backend/tensorflow_backend.py:91: The name tf.placeholder_with_default is deprecated. Please use tf.compat.v1.placeholder_with_default instead.\n",
            "\n",
            "WARNING:tensorflow:From /usr/local/lib/python3.7/dist-packages/keras/backend/tensorflow_backend.py:95: The name tf.get_default_graph is deprecated. Please use tf.compat.v1.get_default_graph instead.\n",
            "\n",
            "WARNING:tensorflow:From /usr/local/lib/python3.7/dist-packages/keras/backend/tensorflow_backend.py:507: The name tf.placeholder is deprecated. Please use tf.compat.v1.placeholder instead.\n",
            "\n",
            "WARNING:tensorflow:From /usr/local/lib/python3.7/dist-packages/keras/backend/tensorflow_backend.py:3831: The name tf.random_uniform is deprecated. Please use tf.random.uniform instead.\n",
            "\n",
            "WARNING:tensorflow:From /usr/local/lib/python3.7/dist-packages/keras/backend/tensorflow_backend.py:167: The name tf.get_default_session is deprecated. Please use tf.compat.v1.get_default_session instead.\n",
            "\n",
            "WARNING:tensorflow:From /usr/local/lib/python3.7/dist-packages/keras/backend/tensorflow_backend.py:174: The name tf.ConfigProto is deprecated. Please use tf.compat.v1.ConfigProto instead.\n",
            "\n",
            "WARNING:tensorflow:From /usr/local/lib/python3.7/dist-packages/keras/backend/tensorflow_backend.py:179: The name tf.Session is deprecated. Please use tf.compat.v1.Session instead.\n",
            "\n",
            "2021-02-25 03:44:13.524316: I tensorflow/core/platform/cpu_feature_guard.cc:142] Your CPU supports instructions that this TensorFlow binary was not compiled to use: AVX2 FMA\n",
            "2021-02-25 03:44:13.529010: I tensorflow/core/platform/profile_utils/cpu_utils.cc:94] CPU Frequency: 2199995000 Hz\n",
            "2021-02-25 03:44:13.529214: I tensorflow/compiler/xla/service/service.cc:168] XLA service 0x562fbe8fea00 initialized for platform Host (this does not guarantee that XLA will be used). Devices:\n",
            "2021-02-25 03:44:13.529243: I tensorflow/compiler/xla/service/service.cc:176]   StreamExecutor device (0): Host, Default Version\n",
            "2021-02-25 03:44:13.530934: I tensorflow/stream_executor/platform/default/dso_loader.cc:44] Successfully opened dynamic library libcuda.so.1\n",
            "2021-02-25 03:44:13.666199: I tensorflow/stream_executor/cuda/cuda_gpu_executor.cc:983] successful NUMA node read from SysFS had negative value (-1), but there must be at least one NUMA node, so returning NUMA node zero\n",
            "2021-02-25 03:44:13.666920: I tensorflow/compiler/xla/service/service.cc:168] XLA service 0x562fbe8ffb80 initialized for platform CUDA (this does not guarantee that XLA will be used). Devices:\n",
            "2021-02-25 03:44:13.666956: I tensorflow/compiler/xla/service/service.cc:176]   StreamExecutor device (0): Tesla T4, Compute Capability 7.5\n",
            "2021-02-25 03:44:13.667113: I tensorflow/stream_executor/cuda/cuda_gpu_executor.cc:983] successful NUMA node read from SysFS had negative value (-1), but there must be at least one NUMA node, so returning NUMA node zero\n",
            "2021-02-25 03:44:13.667645: I tensorflow/core/common_runtime/gpu/gpu_device.cc:1639] Found device 0 with properties: \n",
            "name: Tesla T4 major: 7 minor: 5 memoryClockRate(GHz): 1.59\n",
            "pciBusID: 0000:00:04.0\n",
            "2021-02-25 03:44:13.667952: I tensorflow/stream_executor/platform/default/dso_loader.cc:44] Successfully opened dynamic library libcudart.so.10.0\n",
            "2021-02-25 03:44:13.669073: I tensorflow/stream_executor/platform/default/dso_loader.cc:44] Successfully opened dynamic library libcublas.so.10.0\n",
            "2021-02-25 03:44:13.670101: I tensorflow/stream_executor/platform/default/dso_loader.cc:44] Successfully opened dynamic library libcufft.so.10.0\n",
            "2021-02-25 03:44:13.670565: I tensorflow/stream_executor/platform/default/dso_loader.cc:44] Successfully opened dynamic library libcurand.so.10.0\n",
            "2021-02-25 03:44:13.671984: I tensorflow/stream_executor/platform/default/dso_loader.cc:44] Successfully opened dynamic library libcusolver.so.10.0\n",
            "2021-02-25 03:44:13.672965: I tensorflow/stream_executor/platform/default/dso_loader.cc:44] Successfully opened dynamic library libcusparse.so.10.0\n",
            "2021-02-25 03:44:13.675952: I tensorflow/stream_executor/platform/default/dso_loader.cc:44] Successfully opened dynamic library libcudnn.so.7\n",
            "2021-02-25 03:44:13.676052: I tensorflow/stream_executor/cuda/cuda_gpu_executor.cc:983] successful NUMA node read from SysFS had negative value (-1), but there must be at least one NUMA node, so returning NUMA node zero\n",
            "2021-02-25 03:44:13.676586: I tensorflow/stream_executor/cuda/cuda_gpu_executor.cc:983] successful NUMA node read from SysFS had negative value (-1), but there must be at least one NUMA node, so returning NUMA node zero\n",
            "2021-02-25 03:44:13.677097: I tensorflow/core/common_runtime/gpu/gpu_device.cc:1767] Adding visible gpu devices: 0\n",
            "2021-02-25 03:44:13.677152: I tensorflow/stream_executor/platform/default/dso_loader.cc:44] Successfully opened dynamic library libcudart.so.10.0\n",
            "2021-02-25 03:44:13.678101: I tensorflow/core/common_runtime/gpu/gpu_device.cc:1180] Device interconnect StreamExecutor with strength 1 edge matrix:\n",
            "2021-02-25 03:44:13.678127: I tensorflow/core/common_runtime/gpu/gpu_device.cc:1186]      0 \n",
            "2021-02-25 03:44:13.678139: I tensorflow/core/common_runtime/gpu/gpu_device.cc:1199] 0:   N \n",
            "2021-02-25 03:44:13.678241: I tensorflow/stream_executor/cuda/cuda_gpu_executor.cc:983] successful NUMA node read from SysFS had negative value (-1), but there must be at least one NUMA node, so returning NUMA node zero\n",
            "2021-02-25 03:44:13.678792: I tensorflow/stream_executor/cuda/cuda_gpu_executor.cc:983] successful NUMA node read from SysFS had negative value (-1), but there must be at least one NUMA node, so returning NUMA node zero\n",
            "2021-02-25 03:44:13.679385: W tensorflow/core/common_runtime/gpu/gpu_bfc_allocator.cc:39] Overriding allow_growth setting because the TF_FORCE_GPU_ALLOW_GROWTH environment variable is set. Original config value was 0.\n",
            "2021-02-25 03:44:13.679440: I tensorflow/core/common_runtime/gpu/gpu_device.cc:1325] Created TensorFlow device (/job:localhost/replica:0/task:0/device:GPU:0 with 14257 MB memory) -> physical GPU (device: 0, name: Tesla T4, pci bus id: 0000:00:04.0, compute capability: 7.5)\n",
            "WARNING:tensorflow:From /usr/local/lib/python3.7/dist-packages/keras/backend/tensorflow_backend.py:183: The name tf.global_variables is deprecated. Please use tf.compat.v1.global_variables instead.\n",
            "\n",
            "WARNING:tensorflow:From /usr/local/lib/python3.7/dist-packages/keras/backend/tensorflow_backend.py:192: The name tf.is_variable_initialized is deprecated. Please use tf.compat.v1.is_variable_initialized instead.\n",
            "\n",
            "WARNING:tensorflow:From /usr/local/lib/python3.7/dist-packages/keras/backend/tensorflow_backend.py:199: The name tf.variables_initializer is deprecated. Please use tf.compat.v1.variables_initializer instead.\n",
            "\n",
            "WARNING:tensorflow:From /usr/local/lib/python3.7/dist-packages/keras/backend/tensorflow_backend.py:1797: The name tf.nn.fused_batch_norm is deprecated. Please use tf.compat.v1.nn.fused_batch_norm instead.\n",
            "\n",
            "WARNING:tensorflow:From /usr/local/lib/python3.7/dist-packages/keras/backend/tensorflow_backend.py:1940: The name tf.image.resize_nearest_neighbor is deprecated. Please use tf.compat.v1.image.resize_nearest_neighbor instead.\n",
            "\n",
            "Create YOLOv3 model with 9 anchors and 1 classes.\n",
            "/usr/local/lib/python3.7/dist-packages/keras/engine/topology.py:3462: UserWarning: Skipping loading of weights for layer conv2d_59 due to mismatch in shape ((1, 1, 1024, 18) vs (255, 1024, 1, 1)).\n",
            "  weight_values[i].shape))\n",
            "/usr/local/lib/python3.7/dist-packages/keras/engine/topology.py:3462: UserWarning: Skipping loading of weights for layer conv2d_59 due to mismatch in shape ((18,) vs (255,)).\n",
            "  weight_values[i].shape))\n",
            "/usr/local/lib/python3.7/dist-packages/keras/engine/topology.py:3462: UserWarning: Skipping loading of weights for layer conv2d_67 due to mismatch in shape ((1, 1, 512, 18) vs (255, 512, 1, 1)).\n",
            "  weight_values[i].shape))\n",
            "/usr/local/lib/python3.7/dist-packages/keras/engine/topology.py:3462: UserWarning: Skipping loading of weights for layer conv2d_67 due to mismatch in shape ((18,) vs (255,)).\n",
            "  weight_values[i].shape))\n",
            "/usr/local/lib/python3.7/dist-packages/keras/engine/topology.py:3462: UserWarning: Skipping loading of weights for layer conv2d_75 due to mismatch in shape ((1, 1, 256, 18) vs (255, 256, 1, 1)).\n",
            "  weight_values[i].shape))\n",
            "/usr/local/lib/python3.7/dist-packages/keras/engine/topology.py:3462: UserWarning: Skipping loading of weights for layer conv2d_75 due to mismatch in shape ((18,) vs (255,)).\n",
            "  weight_values[i].shape))\n",
            "Load weights model_data/yolo_weights.h5.\n",
            "Freeze the first 249 layers of total 252 layers.\n",
            "WARNING:tensorflow:From /usr/local/lib/python3.7/dist-packages/keras/backend/tensorflow_backend.py:1486: The name tf.log is deprecated. Please use tf.math.log instead.\n",
            "\n",
            "WARNING:tensorflow:From /usr/local/lib/python3.7/dist-packages/keras/backend/tensorflow_backend.py:2836: where (from tensorflow.python.ops.array_ops) is deprecated and will be removed in a future version.\n",
            "Instructions for updating:\n",
            "Use tf.where in 2.0, which has the same broadcast rule as np.where\n",
            "WARNING:tensorflow:From /usr/local/lib/python3.7/dist-packages/keras/optimizers.py:757: The name tf.train.Optimizer is deprecated. Please use tf.compat.v1.train.Optimizer instead.\n",
            "\n",
            "Train on 309 samples, val on 34 samples, with batch size 16.\n",
            "WARNING:tensorflow:From /usr/local/lib/python3.7/dist-packages/keras/backend/tensorflow_backend.py:976: The name tf.assign_add is deprecated. Please use tf.compat.v1.assign_add instead.\n",
            "\n",
            "WARNING:tensorflow:From /usr/local/lib/python3.7/dist-packages/keras/backend/tensorflow_backend.py:963: The name tf.assign is deprecated. Please use tf.compat.v1.assign instead.\n",
            "\n",
            "WARNING:tensorflow:From /usr/local/lib/python3.7/dist-packages/keras/callbacks.py:774: The name tf.summary.merge_all is deprecated. Please use tf.compat.v1.summary.merge_all instead.\n",
            "\n",
            "WARNING:tensorflow:From /usr/local/lib/python3.7/dist-packages/keras/callbacks.py:777: The name tf.summary.FileWriter is deprecated. Please use tf.compat.v1.summary.FileWriter instead.\n",
            "\n",
            "Epoch 1/20\n",
            "2021-02-25 03:44:28.128617: E tensorflow/core/grappler/optimizers/meta_optimizer.cc:533] shape_optimizer failed: Invalid argument: Subshape must have computed start >= end since stride is negative, but is 0 and 2 (computed from start 0 and end 9223372036854775807 over shape with rank 2 and stride-1)\n",
            "2021-02-25 03:44:28.420652: E tensorflow/core/grappler/optimizers/meta_optimizer.cc:533] layout failed: Invalid argument: Subshape must have computed start >= end since stride is negative, but is 0 and 2 (computed from start 0 and end 9223372036854775807 over shape with rank 2 and stride-1)\n",
            "2021-02-25 03:44:28.702620: E tensorflow/core/grappler/optimizers/meta_optimizer.cc:533] shape_optimizer failed: Invalid argument: Subshape must have computed start >= end since stride is negative, but is 0 and 2 (computed from start 0 and end 9223372036854775807 over shape with rank 2 and stride-1)\n",
            "2021-02-25 03:44:29.701408: I tensorflow/stream_executor/platform/default/dso_loader.cc:44] Successfully opened dynamic library libcudnn.so.7\n",
            "2021-02-25 03:44:31.382347: I tensorflow/stream_executor/platform/default/dso_loader.cc:44] Successfully opened dynamic library libcublas.so.10.0\n",
            "18/19 [===========================>..] - ETA: 1s - loss: 3457.29042021-02-25 03:44:52.449103: E tensorflow/core/grappler/optimizers/meta_optimizer.cc:533] layout failed: Invalid argument: Subshape must have computed start >= end since stride is negative, but is 0 and 2 (computed from start 0 and end 9223372036854775807 over shape with rank 2 and stride-1)\n",
            "19/19 [==============================] - 29s 2s/step - loss: 3334.5453 - val_loss: 993.4081\n",
            "WARNING:tensorflow:From /usr/local/lib/python3.7/dist-packages/keras/callbacks.py:860: The name tf.Summary is deprecated. Please use tf.compat.v1.Summary instead.\n",
            "\n",
            "Epoch 2/20\n",
            "19/19 [==============================] - 23s 1s/step - loss: 625.5499 - val_loss: 372.0052\n",
            "Epoch 3/20\n",
            "19/19 [==============================] - 23s 1s/step - loss: 324.7218 - val_loss: 260.7542\n",
            "Epoch 4/20\n",
            "19/19 [==============================] - 16s 866ms/step - loss: 244.0774 - val_loss: 219.9932\n",
            "Epoch 5/20\n",
            "19/19 [==============================] - 23s 1s/step - loss: 207.5831 - val_loss: 180.8676\n",
            "Epoch 6/20\n",
            "19/19 [==============================] - 23s 1s/step - loss: 182.1875 - val_loss: 161.9958\n",
            "Epoch 7/20\n",
            "19/19 [==============================] - 23s 1s/step - loss: 167.5140 - val_loss: 148.1277\n",
            "Epoch 8/20\n",
            "19/19 [==============================] - 23s 1s/step - loss: 151.2248 - val_loss: 143.1213\n",
            "Epoch 9/20\n",
            "19/19 [==============================] - 23s 1s/step - loss: 142.6097 - val_loss: 136.3236\n",
            "Epoch 10/20\n",
            "19/19 [==============================] - 23s 1s/step - loss: 135.1423 - val_loss: 124.0489\n",
            "Epoch 11/20\n",
            "19/19 [==============================] - 23s 1s/step - loss: 128.4324 - val_loss: 119.1641\n",
            "Epoch 12/20\n",
            "19/19 [==============================] - 23s 1s/step - loss: 125.2811 - val_loss: 117.8455\n",
            "Epoch 13/20\n",
            "19/19 [==============================] - 23s 1s/step - loss: 121.7488 - val_loss: 110.1949\n",
            "Epoch 14/20\n",
            "19/19 [==============================] - 23s 1s/step - loss: 114.2375 - val_loss: 109.3775\n",
            "Epoch 15/20\n",
            "19/19 [==============================] - 23s 1s/step - loss: 112.9564 - val_loss: 106.6571\n",
            "Epoch 16/20\n",
            "19/19 [==============================] - 23s 1s/step - loss: 111.4869 - val_loss: 105.0343\n",
            "Epoch 17/20\n",
            "19/19 [==============================] - 23s 1s/step - loss: 108.5488 - val_loss: 98.9898\n",
            "Epoch 18/20\n",
            "19/19 [==============================] - 23s 1s/step - loss: 105.6998 - val_loss: 99.1945\n",
            "Epoch 19/20\n",
            "19/19 [==============================] - 23s 1s/step - loss: 104.0442 - val_loss: 94.9579\n",
            "Epoch 20/20\n",
            "19/19 [==============================] - 23s 1s/step - loss: 101.2193 - val_loss: 100.2676\n",
            "Unfreeze all of the layers.\n",
            "Train on 309 samples, val on 34 samples, with batch size 16.\n",
            "Epoch 21/100\n",
            "2021-02-25 03:52:57.336490: E tensorflow/core/grappler/optimizers/meta_optimizer.cc:533] shape_optimizer failed: Invalid argument: Subshape must have computed start >= end since stride is negative, but is 0 and 2 (computed from start 0 and end 9223372036854775807 over shape with rank 2 and stride-1)\n",
            "2021-02-25 03:52:59.403652: E tensorflow/core/grappler/optimizers/meta_optimizer.cc:533] layout failed: Invalid argument: Subshape must have computed start >= end since stride is negative, but is 0 and 2 (computed from start 0 and end 9223372036854775807 over shape with rank 2 and stride-1)\n",
            "2021-02-25 03:53:00.909915: E tensorflow/core/grappler/optimizers/meta_optimizer.cc:533] shape_optimizer failed: Invalid argument: Subshape must have computed start >= end since stride is negative, but is 0 and 2 (computed from start 0 and end 9223372036854775807 over shape with rank 2 and stride-1)\n",
            "18/19 [===========================>..] - ETA: 1s - loss: 73.33162021-02-25 03:53:31.074251: E tensorflow/core/grappler/optimizers/meta_optimizer.cc:533] layout failed: Invalid argument: Subshape must have computed start >= end since stride is negative, but is 0 and 2 (computed from start 0 and end 9223372036854775807 over shape with rank 2 and stride-1)\n",
            "19/19 [==============================] - 40s 2s/step - loss: 72.7146 - val_loss: 67.2190\n",
            "Epoch 22/100\n",
            "19/19 [==============================] - 26s 1s/step - loss: 63.0159 - val_loss: 64.6116\n",
            "Epoch 23/100\n",
            "19/19 [==============================] - 26s 1s/step - loss: 58.7156 - val_loss: 57.9178\n",
            "Epoch 24/100\n",
            "19/19 [==============================] - 28s 1s/step - loss: 58.1431 - val_loss: 55.3014\n",
            "Epoch 25/100\n",
            "19/19 [==============================] - 28s 1s/step - loss: 56.7163 - val_loss: 58.5629\n",
            "Epoch 26/100\n",
            "19/19 [==============================] - 28s 1s/step - loss: 54.6510 - val_loss: 54.9712\n",
            "Epoch 27/100\n",
            "19/19 [==============================] - 28s 1s/step - loss: 54.4398 - val_loss: 51.6599\n",
            "Epoch 28/100\n",
            "19/19 [==============================] - 28s 1s/step - loss: 53.8172 - val_loss: 54.9441\n",
            "Epoch 29/100\n",
            "19/19 [==============================] - 28s 1s/step - loss: 52.9516 - val_loss: 55.0698\n",
            "Epoch 30/100\n",
            "19/19 [==============================] - 28s 1s/step - loss: 53.5554 - val_loss: 53.2384\n",
            "Epoch 31/100\n",
            "19/19 [==============================] - 28s 1s/step - loss: 52.9168 - val_loss: 54.8878\n",
            "\n",
            "Epoch 00031: ReduceLROnPlateau reducing learning rate to 9.999999747378752e-06.\n",
            "Epoch 32/100\n",
            "19/19 [==============================] - 27s 1s/step - loss: 51.4068 - val_loss: 54.6203\n",
            "Epoch 33/100\n",
            "19/19 [==============================] - 28s 1s/step - loss: 50.7900 - val_loss: 53.3654\n",
            "Epoch 34/100\n",
            "19/19 [==============================] - 28s 1s/step - loss: 51.1515 - val_loss: 53.7723\n",
            "\n",
            "Epoch 00034: ReduceLROnPlateau reducing learning rate to 9.999999747378752e-07.\n",
            "Epoch 35/100\n",
            "19/19 [==============================] - 28s 1s/step - loss: 50.9989 - val_loss: 49.4049\n",
            "Epoch 36/100\n",
            "19/19 [==============================] - 28s 1s/step - loss: 51.5877 - val_loss: 51.6969\n",
            "Epoch 37/100\n",
            "19/19 [==============================] - 28s 1s/step - loss: 50.6508 - val_loss: 52.0544\n",
            "Epoch 38/100\n",
            "19/19 [==============================] - 28s 1s/step - loss: 51.2635 - val_loss: 48.1271\n",
            "Epoch 39/100\n",
            "19/19 [==============================] - 28s 1s/step - loss: 51.0648 - val_loss: 52.7201\n",
            "Epoch 40/100\n",
            "19/19 [==============================] - 28s 1s/step - loss: 51.0443 - val_loss: 53.4587\n",
            "Epoch 41/100\n",
            "19/19 [==============================] - 28s 1s/step - loss: 50.3224 - val_loss: 50.5345\n",
            "Epoch 42/100\n",
            "19/19 [==============================] - 28s 1s/step - loss: 51.3830 - val_loss: 49.8061\n",
            "\n",
            "Epoch 00042: ReduceLROnPlateau reducing learning rate to 9.999999974752428e-08.\n",
            "Epoch 43/100\n",
            "19/19 [==============================] - 28s 1s/step - loss: 51.0624 - val_loss: 51.8863\n",
            "Epoch 44/100\n",
            "19/19 [==============================] - 28s 1s/step - loss: 51.0018 - val_loss: 51.3152\n",
            "Epoch 45/100\n",
            "19/19 [==============================] - 28s 1s/step - loss: 50.3419 - val_loss: 53.4304\n",
            "\n",
            "Epoch 00045: ReduceLROnPlateau reducing learning rate to 1.0000000116860975e-08.\n",
            "Epoch 46/100\n",
            "19/19 [==============================] - 28s 1s/step - loss: 50.4961 - val_loss: 50.0752\n",
            "Epoch 47/100\n",
            "19/19 [==============================] - 28s 1s/step - loss: 50.7682 - val_loss: 51.7997\n",
            "Epoch 48/100\n",
            "19/19 [==============================] - 28s 1s/step - loss: 50.8429 - val_loss: 53.9532\n",
            "\n",
            "Epoch 00048: ReduceLROnPlateau reducing learning rate to 9.999999939225292e-10.\n",
            "Epoch 00048: early stopping\n"
          ],
          "name": "stdout"
        }
      ]
    }
  ]
}